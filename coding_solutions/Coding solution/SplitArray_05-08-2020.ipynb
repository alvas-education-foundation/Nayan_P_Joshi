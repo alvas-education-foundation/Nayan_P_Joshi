{
 "cells": [
  {
   "cell_type": "code",
   "execution_count": 1,
   "metadata": {},
   "outputs": [
    {
     "name": "stdout",
     "output_type": "stream",
     "text": [
      "5 6 52 36 12 10 "
     ]
    }
   ],
   "source": [
    "def splitArr(arr, n, k): \n",
    "\tfor i in range(0, k): \n",
    "\t\tx = arr[0] \n",
    "\t\tfor j in range(0, n-1): \n",
    "\t\t\tarr[j] = arr[j + 1] \n",
    "\t\t\n",
    "\t\tarr[n-1] = x \n",
    "\t\t\n",
    "\n",
    "# main \n",
    "arr = [12, 10, 5, 6, 52, 36] \n",
    "n = len(arr) \n",
    "position = 2\n",
    "\n",
    "splitArr(arr, n, position) \n",
    "\n",
    "for i in range(0, n): \n",
    "\tprint(arr[i], end = ' ') \n"
   ]
  }
 ],
 "metadata": {
  "kernelspec": {
   "display_name": "Python 3",
   "language": "python",
   "name": "python3"
  },
  "language_info": {
   "codemirror_mode": {
    "name": "ipython",
    "version": 3
   },
   "file_extension": ".py",
   "mimetype": "text/x-python",
   "name": "python",
   "nbconvert_exporter": "python",
   "pygments_lexer": "ipython3",
   "version": "3.7.4"
  }
 },
 "nbformat": 4,
 "nbformat_minor": 2
}
