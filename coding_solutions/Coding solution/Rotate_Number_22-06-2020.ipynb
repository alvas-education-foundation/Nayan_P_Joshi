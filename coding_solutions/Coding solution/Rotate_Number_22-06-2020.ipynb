{
 "cells": [
  {
   "cell_type": "code",
   "execution_count": 1,
   "metadata": {},
   "outputs": [
    {
     "name": "stdout",
     "output_type": "stream",
     "text": [
      "Left Rotation of 16 by 2 is 64\n",
      "Right Rotation of 16 by 2 is 4\n"
     ]
    }
   ],
   "source": [
    "\n",
    "INT_BITS = 32\n",
    "\n",
    "def leftRotate(n, d): \n",
    "\n",
    "\n",
    "\treturn (n << d)|(n >> (INT_BITS - d)) \n",
    "\n",
    "def rightRotate(n, d): \n",
    "\n",
    "\n",
    "\treturn (n >> d)|(n << (INT_BITS - d)) & 0xFFFFFFFF\n",
    "\n",
    "\n",
    "n = 16\n",
    "d = 2\n",
    "\n",
    "print(\"Left Rotation of\",n,\"by\"\n",
    "\t,d,\"is\",end=\" \") \n",
    "print(leftRotate(n, d)) \n",
    "\n",
    "print(\"Right Rotation of\",n,\"by\"\n",
    "\t,d,\"is\",end=\" \") \n",
    "print(rightRotate(n, d)) "
   ]
  },
  {
   "cell_type": "code",
   "execution_count": null,
   "metadata": {},
   "outputs": [],
   "source": []
  }
 ],
 "metadata": {
  "kernelspec": {
   "display_name": "Python 3",
   "language": "python",
   "name": "python3"
  },
  "language_info": {
   "codemirror_mode": {
    "name": "ipython",
    "version": 3
   },
   "file_extension": ".py",
   "mimetype": "text/x-python",
   "name": "python",
   "nbconvert_exporter": "python",
   "pygments_lexer": "ipython3",
   "version": "3.7.4"
  }
 },
 "nbformat": 4,
 "nbformat_minor": 2
}
