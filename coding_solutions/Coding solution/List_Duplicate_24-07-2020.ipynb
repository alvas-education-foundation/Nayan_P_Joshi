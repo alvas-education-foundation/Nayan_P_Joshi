{
 "cells": [
  {
   "cell_type": "code",
   "execution_count": 1,
   "metadata": {},
   "outputs": [
    {
     "name": "stdout",
     "output_type": "stream",
     "text": [
      "[20, 30, -20, 60]\n"
     ]
    }
   ],
   "source": [
    " \n",
    "def Repeat(x): \n",
    "\t_size = len(x) \n",
    "\trepeated = [] \n",
    "\tfor i in range(_size): \n",
    "\t\tk = i + 1\n",
    "\t\tfor j in range(k, _size): \n",
    "\t\t\tif x[i] == x[j] and x[i] not in repeated: \n",
    "\t\t\t\trepeated.append(x[i]) \n",
    "\treturn repeated \n",
    " \n",
    "list1 = [10, 20, 30, 20, 20, 30, 40, \n",
    "\t\t50, -20, 60, 60, -20, -20] \n",
    "print (Repeat(list1)) "
   ]
  },
  {
   "cell_type": "code",
   "execution_count": null,
   "metadata": {},
   "outputs": [],
   "source": []
  }
 ],
 "metadata": {
  "kernelspec": {
   "display_name": "Python 3",
   "language": "python",
   "name": "python3"
  },
  "language_info": {
   "codemirror_mode": {
    "name": "ipython",
    "version": 3
   },
   "file_extension": ".py",
   "mimetype": "text/x-python",
   "name": "python",
   "nbconvert_exporter": "python",
   "pygments_lexer": "ipython3",
   "version": "3.7.4"
  }
 },
 "nbformat": 4,
 "nbformat_minor": 2
}
