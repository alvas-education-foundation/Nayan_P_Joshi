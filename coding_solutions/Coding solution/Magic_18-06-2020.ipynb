{
 "cells": [
  {
   "cell_type": "code",
   "execution_count": 7,
   "metadata": {},
   "outputs": [
    {
     "name": "stdout",
     "output_type": "stream",
     "text": [
      "nth magic number is 130\n"
     ]
    }
   ],
   "source": [
    "def MagicNo(n): \n",
    "\n",
    "\tpow = 1\n",
    "\tanswer = 0\n",
    "\n",
    "\n",
    "\twhile (n): \n",
    "\n",
    "\t\tpow = pow*5\n",
    "\n",
    "\t\t# If last bit of n is set \n",
    "\t\tif (n & 1): \n",
    "\t\t\tanswer += pow\n",
    "\n",
    "\t\t# proceed to next bit \n",
    "\t\tn >>= 1 # or n = n/2 \n",
    "\t\n",
    "\treturn answer \n",
    "\n",
    "\n",
    "\n",
    "n = 5\n",
    "print(\"nth magic number is\", MagicNo(n)) \n",
    "\n"
   ]
  },
  {
   "cell_type": "code",
   "execution_count": null,
   "metadata": {},
   "outputs": [],
   "source": []
  }
 ],
 "metadata": {
  "kernelspec": {
   "display_name": "Python 3",
   "language": "python",
   "name": "python3"
  },
  "language_info": {
   "codemirror_mode": {
    "name": "ipython",
    "version": 3
   },
   "file_extension": ".py",
   "mimetype": "text/x-python",
   "name": "python",
   "nbconvert_exporter": "python",
   "pygments_lexer": "ipython3",
   "version": "3.7.4"
  }
 },
 "nbformat": 4,
 "nbformat_minor": 2
}
