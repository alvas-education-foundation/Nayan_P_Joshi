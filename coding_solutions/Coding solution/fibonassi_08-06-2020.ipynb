{
 "cells": [
  {
   "cell_type": "code",
   "execution_count": null,
   "metadata": {},
   "outputs": [],
   "source": [
    "nterms = int(input(\"How many terms you want? \"))  \n",
    "n1 = 0  \n",
    "n2 = 1  \n",
    "count = 2  \n",
    "if nterms <= 0:  \n",
    "   print(\"Plese enter a positive integer\")  \n",
    "elif nterms == 1:  \n",
    "   print(\"Fibonacci sequence:\")  \n",
    "   print(n1)  \n",
    "else:  \n",
    "   print(\"Fibonacci sequence:\")  \n",
    "   print(n1,\",\",n2,end=', ')  \n",
    "   while count < nterms:  \n",
    "       nth = n1 + n2  \n",
    "       print(nth,end=' , ')  \n",
    "       n1 = n2  \n",
    "       n2 = nth  \n",
    "       count += 1  "
   ]
  }
 ],
 "metadata": {
  "kernelspec": {
   "display_name": "Python 3",
   "language": "python",
   "name": "python3"
  },
  "language_info": {
   "codemirror_mode": {
    "name": "ipython",
    "version": 3
   },
   "file_extension": ".py",
   "mimetype": "text/x-python",
   "name": "python",
   "nbconvert_exporter": "python",
   "pygments_lexer": "ipython3",
   "version": "3.7.4"
  }
 },
 "nbformat": 4,
 "nbformat_minor": 2
}
