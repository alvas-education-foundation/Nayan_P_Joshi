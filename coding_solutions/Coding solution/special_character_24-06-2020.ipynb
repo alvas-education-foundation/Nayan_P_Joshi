{
 "cells": [
  {
   "cell_type": "code",
   "execution_count": 2,
   "metadata": {},
   "outputs": [
    {
     "name": "stdout",
     "output_type": "stream",
     "text": [
      "String is accepted\n"
     ]
    }
   ],
   "source": [
    "\n",
    "import re \n",
    "\n",
    "\n",
    "def run(string): \n",
    "\n",
    "\n",
    "\tregex = re.compile('[@_!#$%^&*()<>?/\\|}{~:]') \n",
    "\t\n",
    "\n",
    "\tif(regex.search(string) == None): \n",
    "\t\tprint(\"String is accepted\") \n",
    "\t\t\n",
    "\telse: \n",
    "\t\tprint(\"String is not accepted.\") \n",
    "\t\n",
    "\n",
    "if __name__ == '__main__' :\n",
    "    string = \"NAYAN\" \n",
    "run(string) \n"
   ]
  },
  {
   "cell_type": "code",
   "execution_count": null,
   "metadata": {},
   "outputs": [],
   "source": []
  }
 ],
 "metadata": {
  "kernelspec": {
   "display_name": "Python 3",
   "language": "python",
   "name": "python3"
  },
  "language_info": {
   "codemirror_mode": {
    "name": "ipython",
    "version": 3
   },
   "file_extension": ".py",
   "mimetype": "text/x-python",
   "name": "python",
   "nbconvert_exporter": "python",
   "pygments_lexer": "ipython3",
   "version": "3.7.4"
  }
 },
 "nbformat": 4,
 "nbformat_minor": 2
}
