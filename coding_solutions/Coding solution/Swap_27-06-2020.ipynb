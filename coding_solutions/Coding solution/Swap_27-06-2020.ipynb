{
 "cells": [
  {
   "cell_type": "code",
   "execution_count": null,
   "metadata": {},
   "outputs": [],
   "source": [
    "def swapList(newList): \n",
    "    size = len(newList) \n",
    " \n",
    "    temp = newList[0] \n",
    "    newList[0] = newList[size - 1] \n",
    "    newList[size - 1] = temp \n",
    "    return newList \n",
    "\n",
    "newList = [12, 35, 9, 56, 24] \n",
    "\n",
    "print(swapList(newList)) \n"
   ]
  }
 ],
 "metadata": {
  "kernelspec": {
   "display_name": "Python 3",
   "language": "python",
   "name": "python3"
  },
  "language_info": {
   "codemirror_mode": {
    "name": "ipython",
    "version": 3
   },
   "file_extension": ".py",
   "mimetype": "text/x-python",
   "name": "python",
   "nbconvert_exporter": "python",
   "pygments_lexer": "ipython3",
   "version": "3.7.4"
  }
 },
 "nbformat": 4,
 "nbformat_minor": 2
}
